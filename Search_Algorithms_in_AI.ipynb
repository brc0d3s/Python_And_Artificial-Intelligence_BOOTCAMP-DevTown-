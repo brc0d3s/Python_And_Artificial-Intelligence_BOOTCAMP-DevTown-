{
 "cells": [
  {
   "cell_type": "markdown",
   "id": "7f2f7f06",
   "metadata": {},
   "source": [
    "# **Search Algorithms in AI**\n",
    "\n",
    "Search algorithms play a crucial role in artificial intelligence by allowing agents to explore and find optimal solutions in a problem space. These algorithms traverse a search tree or graph, systematically examining possible paths until a goal state is reached. In this note, we'll explore three common search algorithms: Breadth-First Search (BFS), Depth-First Search (DFS), and A* Search.\n",
    "\n",
    "## **1. Breadth-First Search (BFS)**\n",
    "\n",
    "Breadth-First Search is an uninformed search algorithm that explores all the vertices of a graph in breadth-first order, i.e., exploring all the neighboring nodes before moving to the next level of nodes. This algorithm guarantees finding the shortest path to the goal if it exists.\n",
    "\n"
   ]
  },
  {
   "cell_type": "code",
   "execution_count": 1,
   "id": "af669f84",
   "metadata": {},
   "outputs": [],
   "source": [
    "from collections import deque\n",
    "\n",
    "def breadth_first_search(graph, start, goal):\n",
    "    queue = deque([(start, [])])\n",
    "    visited = set()\n",
    "    \n",
    "    while queue:\n",
    "        node, path = queue.popleft()\n",
    "        visited.add(node)\n",
    "        \n",
    "        if node == goal:\n",
    "            return path\n",
    "        \n",
    "        for neighbor in graph[node]:\n",
    "            if neighbor not in visited:\n",
    "                queue.append((neighbor, path + [neighbor]))\n",
    "                visited.add(neighbor)\n",
    "    \n",
    "    return None\n"
   ]
  },
  {
   "cell_type": "markdown",
   "id": "ed9db4a1",
   "metadata": {},
   "source": [
    "\n",
    "In the code above, the `breadth_first_search` function takes a `graph` (dictionary representation), `start` node, and `goal` node as input. It initializes a queue using `deque` from the `collections` module. We also create a `visited` set to keep track of visited nodes.\n",
    "\n",
    "The algorithm uses a while loop that continues until the queue is empty. Inside the loop, it dequeues the front node from the queue and adds it to the `visited` set. If the current node is the goal, it returns the path taken to reach the goal.\n",
    "\n",
    "Otherwise, the algorithm expands the neighbors of the current node. For each neighbor that hasn't been visited, it adds the neighbor and the corresponding path to the queue. It also adds the neighbor to the `visited` set.\n",
    "\n",
    "If no path is found, the algorithm returns `None`.  \n",
    "\n",
    "\n",
    "\n",
    "## **2. Depth-First Search (DFS)**\n",
    "\n",
    "Depth-First Search is another uninformed search algorithm that explores a graph by going as deep as possible along each branch before backtracking. It uses a stack to keep track of the nodes and follows the last node visited until it reaches a dead-end before backtracking.\n",
    "\n"
   ]
  },
  {
   "cell_type": "code",
   "execution_count": 2,
   "id": "3d66e0d5",
   "metadata": {},
   "outputs": [],
   "source": [
    "\n",
    "def depth_first_search(graph, start, goal):\n",
    "    stack = [(start, [])]\n",
    "    visited = set()\n",
    "    \n",
    "    while stack:\n",
    "        node, path = stack.pop()\n",
    "        visited.add(node)\n",
    "        \n",
    "        if node == goal:\n",
    "            return path\n",
    "        \n",
    "        for neighbor in graph[node]:\n",
    "            if neighbor not in visited:\n",
    "                stack.append((neighbor, path + [neighbor]))\n",
    "                visited.add(neighbor)\n",
    "    \n",
    "    return None\n"
   ]
  },
  {
   "cell_type": "markdown",
   "id": "465836fb",
   "metadata": {},
   "source": [
    "The `depth_first_search` function follows a similar structure to the BFS algorithm. However, instead of using a queue, it uses a stack (implemented as a list) to keep track of nodes to explore. The algorithm explores the nodes in a depth-first manner, pushing and popping nodes from the stack accordingly.\n",
    "\n",
    "## **3. A* Search**\n",
    "\n",
    "A* Search is an informed search algorithm that expands nodes by considering both the actual cost from the start node (`g(n)`) and the estimated cost to the goal node (`h(n)`). The estimated cost is often determined using a heuristic function. A* Search selects the most promising nodes based on the sum of the actual cost and estimated cost (`f(n) = g(n) + h(n)`).\n",
    "\n"
   ]
  },
  {
   "cell_type": "code",
   "execution_count": 3,
   "id": "f4d87134",
   "metadata": {},
   "outputs": [],
   "source": [
    "\n",
    "import heapq\n",
    "\n",
    "def a_star_search(graph, start, goal, heuristic):\n",
    "    queue = [(0, start, [])]\n",
    "    visited = set()\n",
    "    \n",
    "    while queue:\n",
    "        cost, node, path = heapq.heappop(queue)\n",
    "        visited.add(node)\n",
    "        \n",
    "        if node == goal:\n",
    "            return path\n",
    "        \n",
    "        for neighbor in graph[node]:\n",
    "            if neighbor not in visited:\n",
    "                new_cost = cost + graph[node][neighbor]\n",
    "                heapq.heappush(queue, (new_cost + heuristic[neighbor], neighbor, path + [neighbor]))\n",
    "                visited.add(neighbor)\n",
    "    \n",
    "    return None\n"
   ]
  },
  {
   "cell_type": "markdown",
   "id": "0bed55ca",
   "metadata": {},
   "source": [
    "The `a_star_search` function utilizes a priority queue (`queue`) implemented as a heap. Each element in the queue is a tuple consisting of the total cost, the current node, and the path taken to reach the node.\n",
    "\n",
    "The algorithm selects the node with the lowest cost from the priority queue and checks if it is the goal node. If it is, the function returns the path taken to reach the goal.\n",
    "\n",
    "Otherwise, the algorithm expands the neighbors of the current node. It calculates the new cost by adding the cost from the current node to the neighbor and the estimated cost to the goal using the heuristic function.\n",
    "\n",
    "The new node, cost, and path are pushed into the priority queue, and the neighbor is added to the `visited` set.\n",
    "\n",
    "If no path is found, the algorithm returns `None`.\n",
    "\n",
    "That concludes our overview of the search algorithms in AI. Each algorithm has its strengths and weaknesses, making them suitable for different problem scenarios. By understanding and implementing these algorithms, you'll have a solid foundation for solving various search-based problems in artificial intelligence."
   ]
  },
  {
   "cell_type": "code",
   "execution_count": null,
   "id": "d559f041",
   "metadata": {},
   "outputs": [],
   "source": []
  }
 ],
 "metadata": {
  "kernelspec": {
   "display_name": "Python 3 (ipykernel)",
   "language": "python",
   "name": "python3"
  },
  "language_info": {
   "codemirror_mode": {
    "name": "ipython",
    "version": 3
   },
   "file_extension": ".py",
   "mimetype": "text/x-python",
   "name": "python",
   "nbconvert_exporter": "python",
   "pygments_lexer": "ipython3",
   "version": "3.9.2"
  }
 },
 "nbformat": 4,
 "nbformat_minor": 5
}
