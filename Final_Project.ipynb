{
 "cells": [
  {
   "cell_type": "code",
   "execution_count": null,
   "id": "c3794a76",
   "metadata": {},
   "outputs": [],
   "source": [
    "def Constboard(board):\n",
    "    print(\"Current state of the board : \\n\\n\")\n",
    "    for i in range(0,9):\n",
    "        if((i>0) and (i%3==0)):\n",
    "            print(\"\\n\")\n",
    "        if(board[i]==0):\n",
    "            print(\"_\", end=\" \")\n",
    "        if(board[i]==-1):\n",
    "            print(\"_\", end=\" \")     \n",
    "\n",
    "\n",
    "\n",
    "def main():\n",
    "    choice=int(input(\"Enter 1 for single player, 2 for multiplayer : \"))\n",
    "    board=[0,0,0,0,0,0,0,0,0]\n",
    "    if(choice==1):\n",
    "        print(\"Computer : 0 Vs You : X\")\n",
    "        player=int(input(\"Enter to play (1)st or (2)nd: \")\n",
    "        for i in range(o,9):\n",
    "            if(analyzeboard(board)!=0):\n",
    "                   break\n",
    "            if(%2==0):\n",
    "               CompTurn(board)\n",
    "               User1Turn(board)\n",
    "            else:\n",
    "               CompTurn(board)\n",
    "               User1Turn(board)\n",
    "                   \n",
    "    x=analyzeboard(board)\n",
    "    if(x==0):\n",
    "        Constboard(board)\n",
    "        print(\"Draw !\")\n",
    "    if(x==-1)\n",
    "        \n",
    "                   \n",
    "               "
   ]
  }
 ],
 "metadata": {
  "kernelspec": {
   "display_name": "Python 3 (ipykernel)",
   "language": "python",
   "name": "python3"
  },
  "language_info": {
   "codemirror_mode": {
    "name": "ipython",
    "version": 3
   },
   "file_extension": ".py",
   "mimetype": "text/x-python",
   "name": "python",
   "nbconvert_exporter": "python",
   "pygments_lexer": "ipython3",
   "version": "3.9.2"
  }
 },
 "nbformat": 4,
 "nbformat_minor": 5
}
